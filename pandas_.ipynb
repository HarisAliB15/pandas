{
  "cells": [
    {
      "cell_type": "markdown",
      "metadata": {
        "id": "view-in-github",
        "colab_type": "text"
      },
      "source": [
        "<a href=\"https://colab.research.google.com/github/FarooqKhan456/AI-PYTHON/blob/main/pandas_.ipynb\" target=\"_parent\"><img src=\"https://colab.research.google.com/assets/colab-badge.svg\" alt=\"Open In Colab\"/></a>"
      ]
    },
    {
      "cell_type": "code",
      "source": [
        "import pandas as pd"
      ],
      "metadata": {
        "id": "DHnbilsWc8f9"
      },
      "execution_count": null,
      "outputs": []
    },
    {
      "cell_type": "code",
      "source": [
        "path=\"/content/drive/MyDrive/content/Resumes.csv\"\n",
        "df=pd.read_csv(path)\n",
        "print( df.to_string())\n"
      ],
      "metadata": {
        "id": "CXc_O0HDdPqI",
        "colab": {
          "base_uri": "https://localhost:8080/"
        },
        "outputId": "f50eb6fa-5738-4e0e-cee8-cf426a614f61"
      },
      "execution_count": 2,
      "outputs": [
        {
          "output_type": "stream",
          "name": "stdout",
          "text": [
            "                Name                Email                              Education               Phone                               Work experience\n",
            "0     Sarah Thompson     saraht@gmail.com                Bachelor's in Marketing      (555) 555-1234             Marketing Coordinator at XYZ Inc.\n",
            "1        John Nguyen      johnn@gmail.com           Master's in Computer Science      (555) 555-5678               Software Developer at ABC Corp.\n",
            "2    Emily Rodriguez     emilyr@gmail.com               Bachelor's in Accounting      (555) 555-9012                          Accountant at DEF Co\n",
            "3      Michael Smith   michaels@gmail.com    Master's in Business Administration      (555) 555-3456                    Project Manager at HIJ Inc\n",
            "4           Lisa Kim      lisak@gmail.com           Bachelor's in Graphic Design      (555) 555-7890                    Graphic Designer at KLM Co\n",
            "5        David Patel     davidp@gmail.com   Bachelor's in Mechanical Engineering      (555) 555-2345               Mechanical Engineer at NOP Corp\n",
            "6        Rachel Lee,    rachell@gmail.com                  Master's in Education      (555) 555-6789        High School Teacher at QRS High School\n",
            "7         Eric Brown      ericb@gmail.com               Bachelor's in Psychology      (555) 555-0123        Human Resources Coordinator at TUV Inc\n",
            "8           Eric jon    sarerht@gmail.com                Bachelor's in Marketing      (555) 555-1321                    Graphic Designer at KLM Co\n",
            "9     Samantha Jones  samanthaj@gmail.com               Bachelor's in Journalism      (555) 555-4567                            Writer at WXY News\n",
            "10         Jon Jones      ericb@gmail.com   Bachelor's in Mechanical Engineering  (555) 555-6123#!@#                          Accountant at DEF Co\n",
            "11     Daniel Garcia    danielg@gmail.com   Bachelor's in Electrical Engineering      (555) 555-8901               Electrical Engineer at ZAB Corp\n",
            "12     Olivia Taylor    oliviat@gmail.com            Bachelor's in Public Health      (555) 555-2345       Public Health Coordinator at CDE Health\n",
            "13          Ryan Kim      ryank@gmail.com                    Master's in Finance      (555) 555-6789                  Financial Analyst at EFG Inc\n",
            "14        Grace Park     gracep@gmail.com        Bachelor's in Political Science      (555) 555-0123         Legislative Aide at HJI Senate Office\n",
            "15       Matthew Lee   matthewl@gmail.com     Bachelor's in Computer Engineering      (555) 555-4567                 Software Engineer at KLM Tech\n",
            "16     Ashley Nguyen    ashleyn@gmail.com                  Master's in Marketing      (555) 555-8901                 Marketing Manager at NOP Inc.\n",
            "17  Thomas Rodriguez    thomasr@gmail.com                Bachelor's in Economics      (555) 555-2345                     Economist at QRS Research\n",
            "18  Vanessa Martinez   vanessam@gmail.com    Bachelor's in Environmental Science      (555) 555-6789  Environmental Scientist at TUV Environmental\n",
            "19      Martin Negan                  NaN                  Master's in Marketing      (555) 555-4523                  Financial Analyst at EFG Inc\n",
            "20  Thomas Rodriguez    thomasr@gmail.com                Bachelor's in Economics      (555) 555-2345                     Economist at QRS Research\n",
            "21        Ahmed Raja   Johncena@gmail.com                  Master's in Marketing      (555) 555-2145                  Financial Analyst at EFG Inc\n",
            "22          Raja Zia   Johncena@gmail.com    Master's in Business Administration      (555) 555-6534         Legislative Aide at HJI Senate Office\n"
          ]
        }
      ]
    },
    {
      "cell_type": "code",
      "source": [
        "import pandas as pd"
      ],
      "metadata": {
        "id": "sJzPjT6-ebNL"
      },
      "execution_count": 3,
      "outputs": []
    },
    {
      "cell_type": "code",
      "source": [
        "path=\"/content/drive/MyDrive/content/Resumes.csv\"\n",
        "df=pd.read_csv(path)\n",
        "print( df.head(10))"
      ],
      "metadata": {
        "colab": {
          "base_uri": "https://localhost:8080/"
        },
        "id": "gGZ16BSDepnE",
        "outputId": "218b4d4c-6cd2-4766-ab72-0125182912de"
      },
      "execution_count": 4,
      "outputs": [
        {
          "output_type": "stream",
          "name": "stdout",
          "text": [
            "              Name                Email                             Education  \\\n",
            "0   Sarah Thompson     saraht@gmail.com               Bachelor's in Marketing   \n",
            "1      John Nguyen      johnn@gmail.com          Master's in Computer Science   \n",
            "2  Emily Rodriguez     emilyr@gmail.com              Bachelor's in Accounting   \n",
            "3    Michael Smith   michaels@gmail.com   Master's in Business Administration   \n",
            "4         Lisa Kim      lisak@gmail.com          Bachelor's in Graphic Design   \n",
            "5      David Patel     davidp@gmail.com  Bachelor's in Mechanical Engineering   \n",
            "6      Rachel Lee,    rachell@gmail.com                 Master's in Education   \n",
            "7       Eric Brown      ericb@gmail.com              Bachelor's in Psychology   \n",
            "8         Eric jon    sarerht@gmail.com               Bachelor's in Marketing   \n",
            "9   Samantha Jones  samanthaj@gmail.com              Bachelor's in Journalism   \n",
            "\n",
            "             Phone                         Work experience  \n",
            "0   (555) 555-1234       Marketing Coordinator at XYZ Inc.  \n",
            "1   (555) 555-5678         Software Developer at ABC Corp.  \n",
            "2   (555) 555-9012                    Accountant at DEF Co  \n",
            "3   (555) 555-3456              Project Manager at HIJ Inc  \n",
            "4   (555) 555-7890              Graphic Designer at KLM Co  \n",
            "5   (555) 555-2345         Mechanical Engineer at NOP Corp  \n",
            "6   (555) 555-6789  High School Teacher at QRS High School  \n",
            "7   (555) 555-0123  Human Resources Coordinator at TUV Inc  \n",
            "8   (555) 555-1321              Graphic Designer at KLM Co  \n",
            "9   (555) 555-4567                      Writer at WXY News  \n"
          ]
        }
      ]
    },
    {
      "cell_type": "code",
      "source": [
        "import pandas as pd"
      ],
      "metadata": {
        "id": "cfxleBiTe08Z"
      },
      "execution_count": 5,
      "outputs": []
    },
    {
      "cell_type": "code",
      "source": [
        "path=\"/content/drive/MyDrive/content/Resumes.csv\"\n",
        "df=pd.read_csv(path)\n",
        "print( df.tail(10))"
      ],
      "metadata": {
        "colab": {
          "base_uri": "https://localhost:8080/"
        },
        "id": "xyLLIfANe7vm",
        "outputId": "82ffb880-96e6-4a02-8810-2d4e5293d380"
      },
      "execution_count": 6,
      "outputs": [
        {
          "output_type": "stream",
          "name": "stdout",
          "text": [
            "                Name               Email  \\\n",
            "13          Ryan Kim     ryank@gmail.com   \n",
            "14        Grace Park    gracep@gmail.com   \n",
            "15       Matthew Lee  matthewl@gmail.com   \n",
            "16     Ashley Nguyen   ashleyn@gmail.com   \n",
            "17  Thomas Rodriguez   thomasr@gmail.com   \n",
            "18  Vanessa Martinez  vanessam@gmail.com   \n",
            "19      Martin Negan                 NaN   \n",
            "20  Thomas Rodriguez   thomasr@gmail.com   \n",
            "21        Ahmed Raja  Johncena@gmail.com   \n",
            "22          Raja Zia  Johncena@gmail.com   \n",
            "\n",
            "                               Education           Phone  \\\n",
            "13                   Master's in Finance  (555) 555-6789   \n",
            "14       Bachelor's in Political Science  (555) 555-0123   \n",
            "15    Bachelor's in Computer Engineering  (555) 555-4567   \n",
            "16                 Master's in Marketing  (555) 555-8901   \n",
            "17               Bachelor's in Economics  (555) 555-2345   \n",
            "18   Bachelor's in Environmental Science  (555) 555-6789   \n",
            "19                 Master's in Marketing  (555) 555-4523   \n",
            "20               Bachelor's in Economics  (555) 555-2345   \n",
            "21                 Master's in Marketing  (555) 555-2145   \n",
            "22   Master's in Business Administration  (555) 555-6534   \n",
            "\n",
            "                                 Work experience  \n",
            "13                  Financial Analyst at EFG Inc  \n",
            "14         Legislative Aide at HJI Senate Office  \n",
            "15                 Software Engineer at KLM Tech  \n",
            "16                 Marketing Manager at NOP Inc.  \n",
            "17                     Economist at QRS Research  \n",
            "18  Environmental Scientist at TUV Environmental  \n",
            "19                  Financial Analyst at EFG Inc  \n",
            "20                     Economist at QRS Research  \n",
            "21                  Financial Analyst at EFG Inc  \n",
            "22         Legislative Aide at HJI Senate Office  \n"
          ]
        }
      ]
    },
    {
      "cell_type": "code",
      "source": [
        "import pandas as pd"
      ],
      "metadata": {
        "id": "nvtY9CIOfIbR"
      },
      "execution_count": 7,
      "outputs": []
    },
    {
      "cell_type": "code",
      "source": [
        "path=\"/content/drive/MyDrive/content/Resumes.csv\"\n",
        "df=pd.read_csv(path)\n",
        "print( df.info())"
      ],
      "metadata": {
        "colab": {
          "base_uri": "https://localhost:8080/"
        },
        "id": "coITPEFZfPQJ",
        "outputId": "e50045de-55a9-4f59-8a6e-ba094afc61e9"
      },
      "execution_count": 8,
      "outputs": [
        {
          "output_type": "stream",
          "name": "stdout",
          "text": [
            "<class 'pandas.core.frame.DataFrame'>\n",
            "RangeIndex: 23 entries, 0 to 22\n",
            "Data columns (total 5 columns):\n",
            " #   Column           Non-Null Count  Dtype \n",
            "---  ------           --------------  ----- \n",
            " 0   Name             23 non-null     object\n",
            " 1   Email            22 non-null     object\n",
            " 2   Education        23 non-null     object\n",
            " 3   Phone            23 non-null     object\n",
            " 4   Work experience  23 non-null     object\n",
            "dtypes: object(5)\n",
            "memory usage: 1.0+ KB\n",
            "None\n"
          ]
        }
      ]
    },
    {
      "cell_type": "code",
      "source": [
        "import pandas as pd"
      ],
      "metadata": {
        "id": "v18nucSJfeYY"
      },
      "execution_count": 9,
      "outputs": []
    },
    {
      "cell_type": "code",
      "source": [
        "path=\"/content/drive/MyDrive/content/Resumes.csv\"\n",
        "df=pd.read_csv(path)\n",
        "print( df.to_string())\n",
        "df.drop_duplicates(inplace=True)"
      ],
      "metadata": {
        "colab": {
          "base_uri": "https://localhost:8080/"
        },
        "id": "QpPHwW4Qej22",
        "outputId": "5c967ac5-a34e-47cf-f61d-0eaabc1c36b1"
      },
      "execution_count": 11,
      "outputs": [
        {
          "output_type": "stream",
          "name": "stdout",
          "text": [
            "                Name                Email                              Education               Phone                               Work experience\n",
            "0     Sarah Thompson     saraht@gmail.com                Bachelor's in Marketing      (555) 555-1234             Marketing Coordinator at XYZ Inc.\n",
            "1        John Nguyen      johnn@gmail.com           Master's in Computer Science      (555) 555-5678               Software Developer at ABC Corp.\n",
            "2    Emily Rodriguez     emilyr@gmail.com               Bachelor's in Accounting      (555) 555-9012                          Accountant at DEF Co\n",
            "3      Michael Smith   michaels@gmail.com    Master's in Business Administration      (555) 555-3456                    Project Manager at HIJ Inc\n",
            "4           Lisa Kim      lisak@gmail.com           Bachelor's in Graphic Design      (555) 555-7890                    Graphic Designer at KLM Co\n",
            "5        David Patel     davidp@gmail.com   Bachelor's in Mechanical Engineering      (555) 555-2345               Mechanical Engineer at NOP Corp\n",
            "6        Rachel Lee,    rachell@gmail.com                  Master's in Education      (555) 555-6789        High School Teacher at QRS High School\n",
            "7         Eric Brown      ericb@gmail.com               Bachelor's in Psychology      (555) 555-0123        Human Resources Coordinator at TUV Inc\n",
            "8           Eric jon    sarerht@gmail.com                Bachelor's in Marketing      (555) 555-1321                    Graphic Designer at KLM Co\n",
            "9     Samantha Jones  samanthaj@gmail.com               Bachelor's in Journalism      (555) 555-4567                            Writer at WXY News\n",
            "10         Jon Jones      ericb@gmail.com   Bachelor's in Mechanical Engineering  (555) 555-6123#!@#                          Accountant at DEF Co\n",
            "11     Daniel Garcia    danielg@gmail.com   Bachelor's in Electrical Engineering      (555) 555-8901               Electrical Engineer at ZAB Corp\n",
            "12     Olivia Taylor    oliviat@gmail.com            Bachelor's in Public Health      (555) 555-2345       Public Health Coordinator at CDE Health\n",
            "13          Ryan Kim      ryank@gmail.com                    Master's in Finance      (555) 555-6789                  Financial Analyst at EFG Inc\n",
            "14        Grace Park     gracep@gmail.com        Bachelor's in Political Science      (555) 555-0123         Legislative Aide at HJI Senate Office\n",
            "15       Matthew Lee   matthewl@gmail.com     Bachelor's in Computer Engineering      (555) 555-4567                 Software Engineer at KLM Tech\n",
            "16     Ashley Nguyen    ashleyn@gmail.com                  Master's in Marketing      (555) 555-8901                 Marketing Manager at NOP Inc.\n",
            "17  Thomas Rodriguez    thomasr@gmail.com                Bachelor's in Economics      (555) 555-2345                     Economist at QRS Research\n",
            "18  Vanessa Martinez   vanessam@gmail.com    Bachelor's in Environmental Science      (555) 555-6789  Environmental Scientist at TUV Environmental\n",
            "19      Martin Negan                  NaN                  Master's in Marketing      (555) 555-4523                  Financial Analyst at EFG Inc\n",
            "20  Thomas Rodriguez    thomasr@gmail.com                Bachelor's in Economics      (555) 555-2345                     Economist at QRS Research\n",
            "21        Ahmed Raja   Johncena@gmail.com                  Master's in Marketing      (555) 555-2145                  Financial Analyst at EFG Inc\n",
            "22          Raja Zia   Johncena@gmail.com    Master's in Business Administration      (555) 555-6534         Legislative Aide at HJI Senate Office\n"
          ]
        }
      ]
    },
    {
      "cell_type": "code",
      "source": [
        "import pandas as pd"
      ],
      "metadata": {
        "id": "kWQCA5SUgKNk"
      },
      "execution_count": 12,
      "outputs": []
    },
    {
      "cell_type": "code",
      "source": [
        "path=\"/content/drive/MyDrive/content/Resumes.csv\"\n",
        "new_df=df.dropna()\n",
        "print( new_df.to_string())"
      ],
      "metadata": {
        "colab": {
          "base_uri": "https://localhost:8080/"
        },
        "id": "OGZcTrX4gOnG",
        "outputId": "d49ebe9d-c1bf-4f49-e154-55e957605e63"
      },
      "execution_count": 13,
      "outputs": [
        {
          "output_type": "stream",
          "name": "stdout",
          "text": [
            "                Name                Email                              Education               Phone                               Work experience\n",
            "0     Sarah Thompson     saraht@gmail.com                Bachelor's in Marketing      (555) 555-1234             Marketing Coordinator at XYZ Inc.\n",
            "1        John Nguyen      johnn@gmail.com           Master's in Computer Science      (555) 555-5678               Software Developer at ABC Corp.\n",
            "2    Emily Rodriguez     emilyr@gmail.com               Bachelor's in Accounting      (555) 555-9012                          Accountant at DEF Co\n",
            "3      Michael Smith   michaels@gmail.com    Master's in Business Administration      (555) 555-3456                    Project Manager at HIJ Inc\n",
            "4           Lisa Kim      lisak@gmail.com           Bachelor's in Graphic Design      (555) 555-7890                    Graphic Designer at KLM Co\n",
            "5        David Patel     davidp@gmail.com   Bachelor's in Mechanical Engineering      (555) 555-2345               Mechanical Engineer at NOP Corp\n",
            "6        Rachel Lee,    rachell@gmail.com                  Master's in Education      (555) 555-6789        High School Teacher at QRS High School\n",
            "7         Eric Brown      ericb@gmail.com               Bachelor's in Psychology      (555) 555-0123        Human Resources Coordinator at TUV Inc\n",
            "8           Eric jon    sarerht@gmail.com                Bachelor's in Marketing      (555) 555-1321                    Graphic Designer at KLM Co\n",
            "9     Samantha Jones  samanthaj@gmail.com               Bachelor's in Journalism      (555) 555-4567                            Writer at WXY News\n",
            "10         Jon Jones      ericb@gmail.com   Bachelor's in Mechanical Engineering  (555) 555-6123#!@#                          Accountant at DEF Co\n",
            "11     Daniel Garcia    danielg@gmail.com   Bachelor's in Electrical Engineering      (555) 555-8901               Electrical Engineer at ZAB Corp\n",
            "12     Olivia Taylor    oliviat@gmail.com            Bachelor's in Public Health      (555) 555-2345       Public Health Coordinator at CDE Health\n",
            "13          Ryan Kim      ryank@gmail.com                    Master's in Finance      (555) 555-6789                  Financial Analyst at EFG Inc\n",
            "14        Grace Park     gracep@gmail.com        Bachelor's in Political Science      (555) 555-0123         Legislative Aide at HJI Senate Office\n",
            "15       Matthew Lee   matthewl@gmail.com     Bachelor's in Computer Engineering      (555) 555-4567                 Software Engineer at KLM Tech\n",
            "16     Ashley Nguyen    ashleyn@gmail.com                  Master's in Marketing      (555) 555-8901                 Marketing Manager at NOP Inc.\n",
            "17  Thomas Rodriguez    thomasr@gmail.com                Bachelor's in Economics      (555) 555-2345                     Economist at QRS Research\n",
            "18  Vanessa Martinez   vanessam@gmail.com    Bachelor's in Environmental Science      (555) 555-6789  Environmental Scientist at TUV Environmental\n",
            "21        Ahmed Raja   Johncena@gmail.com                  Master's in Marketing      (555) 555-2145                  Financial Analyst at EFG Inc\n",
            "22          Raja Zia   Johncena@gmail.com    Master's in Business Administration      (555) 555-6534         Legislative Aide at HJI Senate Office\n"
          ]
        }
      ]
    },
    {
      "cell_type": "markdown",
      "source": [],
      "metadata": {
        "id": "3E8Mq8F2gnDJ"
      }
    },
    {
      "cell_type": "markdown",
      "source": [],
      "metadata": {
        "id": "H6jygg0ogrOT"
      }
    }
  ],
  "metadata": {
    "colab": {
      "provenance": [],
      "mount_file_id": "11ZRYDiJeaGkn5OYFvLZg8TbJkKEmUO7R",
      "authorship_tag": "ABX9TyPOimliBjC+P7Pv/ug98PMW",
      "include_colab_link": true
    },
    "kernelspec": {
      "display_name": "Python 3",
      "name": "python3"
    },
    "language_info": {
      "name": "python"
    }
  },
  "nbformat": 4,
  "nbformat_minor": 0
}